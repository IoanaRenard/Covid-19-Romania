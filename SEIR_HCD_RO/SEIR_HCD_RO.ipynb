{
 "cells": [
  {
   "cell_type": "markdown",
   "metadata": {},
   "source": [
    "# SEIR-HCD Model\n",
    "* By Daniel Traian Pele\n",
    "\n",
    "This is a working example of a [SIER](https://en.wikipedia.org/wiki/Compartmental_models_in_epidemiology#The_SEIR_model) model with added compartments for HCD. The letters stand for:\n",
    "* Susceptible\n",
    "* Exposed\n",
    "* Infected\n",
    "* Recovered\n",
    "* Hospitalized\n",
    "* Critical\n",
    "* Death\n",
    "\n",
    "Acknowledgments:\n",
    "* https://www.kaggle.com/anjum48/seir-hcd-model\n",
    "* http://gabgoh.github.io/COVID/index.html\n",
    "* https://neherlab.org/covid19\n",
    "\n"
   ]
  },
  {
   "cell_type": "code",
   "execution_count": 10,
   "metadata": {
    "ExecuteTime": {
     "end_time": "2020-03-30T20:24:17.892422Z",
     "start_time": "2020-03-30T20:24:17.364374Z"
    },
    "_cell_guid": "b1076dfc-b9ad-4769-8c92-a6c4dae69d19",
    "_uuid": "8f2839f25d086af736a60e9eeb907d3b93b6e0e5"
   },
   "outputs": [],
   "source": [
    "import pandas as pd\n",
    "import numpy as np\n",
    "import matplotlib.pyplot as plt\n",
    "from pathlib import Path\n",
    "import os\n",
    "from tqdm import tqdm\n",
    "from scipy.integrate import solve_ivp\n",
    "from scipy.optimize import minimize\n",
    "from sklearn.metrics import mean_squared_log_error, mean_squared_error"
   ]
  },
  {
   "cell_type": "markdown",
   "metadata": {},
   "source": [
    "## The parameters used in the model are taken from the following studies:\n",
    "* Coronavirus disease 2019 (COVID-19) in the EU/EEA and the UK – eighth update - 8 April 2020, \n",
    "https://www.ecdc.europa.eu/sites/default/files/documents/\n",
    "    covid-19-rapid-risk-assessment-coronavirus-disease-2019-eighth-update-8-april-2020.pdf\n",
    "* Chang D, Mo G, Yuan X et al. Am J Resp Crit Care Med 2020. doi: 10.1164/rccm.202003-0524LE"
   ]
  },
  {
   "cell_type": "markdown",
   "metadata": {},
   "source": [
    "## Parameters used in the model\n",
    "\n",
    "`R_t` = reproduction number at time t. We use 2.79 at t=0.\n",
    "\n",
    "**Transition times**\n",
    "* `T_inc` = average incubation period.  We use 5 days.\n",
    "* `T_inf` = average infectious period. We use 8 days.\n",
    "* `T_hosp` = average time a patient is in hospital before either recovering or becoming critical. We use 4 days.\n",
    "* `T_crit` = average time a patient is in a critical state (either recover or die). We use 14 days.\n",
    "\n",
    "**Fractions**\n",
    ":\n",
    "* `m_a` = fraction of infections that are asymptomatic or mild.  We use 68%.\n",
    "* `c_a` = fraction of severe cases that turn critical.  We use 0.77%.\n",
    "* `f_a` = fraction of critical cases that are fatal.  We use  11%.\n",
    "\n"
   ]
  },
  {
   "cell_type": "code",
   "execution_count": 11,
   "metadata": {
    "ExecuteTime": {
     "end_time": "2020-03-30T20:24:17.904171Z",
     "start_time": "2020-03-30T20:24:17.893723Z"
    },
    "_cell_guid": "79c7e3d0-c299-4dcb-8224-4455121ee9b0",
    "_uuid": "d629ff2d2480ee46fbb7e2d37f6b5fab8052498a"
   },
   "outputs": [],
   "source": [
    "# Susceptible equation\n",
    "def dS_dt(S, I, R_t, t_inf):\n",
    "    return -(R_t / t_inf) * I * S\n",
    "\n",
    "\n",
    "# Exposed equation\n",
    "def dE_dt(S, E, I, R_t, t_inf, t_inc):\n",
    "    return (R_t / t_inf) * I * S - (E / t_inc)\n",
    "\n",
    "\n",
    "# Infected equation\n",
    "def dI_dt(I, E, t_inc, t_inf):\n",
    "    return (E / t_inc) - (I / t_inf)\n",
    "\n",
    "\n",
    "# Hospialized equation\n",
    "def dH_dt(I, C, H, t_inf, t_hosp, t_crit, m_a, f_a):\n",
    "    return ((1 - m_a) * (I / t_inf)) + ((1 - f_a) * C / t_crit) - (H / t_hosp)\n",
    "\n",
    "\n",
    "# Critical equation\n",
    "def dC_dt(H, C, t_hosp, t_crit, c_a):\n",
    "    return (c_a * H / t_hosp) - (C / t_crit)\n",
    "\n",
    "\n",
    "# Recovered equation\n",
    "def dR_dt(I, H, t_inf, t_hosp, m_a, c_a):\n",
    "    return (m_a * I / t_inf) + (1 - c_a) * (H / t_hosp)\n",
    "\n",
    "\n",
    "# Deaths equation\n",
    "def dD_dt(C, t_crit, f_a):\n",
    "    return f_a * C / t_crit\n",
    "\n",
    "\n",
    "def SEIR_HCD_model(t, y, R_t, t_inc=5, t_inf=8, t_hosp=4, t_crit=14, m_a=0.68, c_a=0.0077, f_a=0.11):\n",
    "    \"\"\"\n",
    "\n",
    "    :param t: Time step for solve_ivp\n",
    "    :param y: Previous solution or initial values\n",
    "    :param R_t: Reproduction number\n",
    "    :param t_inc: Average incubation period. Default 5 days\n",
    "    :param t_inf: Average infectious period. Default 8 days\n",
    "    :param t_hosp: Average time a patient is in hospital before either recovering or becoming critical. Default 4 days\n",
    "    :param t_crit: Average time a patient is in a critical state (either recover or die). Default 14 days\n",
    "    :param m_a: Fraction of infections that are asymptomatic or mild. Default 0.68\n",
    "    :param c_a: Fraction of severe cases that turn critical. Default 0.077\n",
    "    :param f_a: Fraction of critical cases that are fatal. Default 0.11\n",
    "    :return:\n",
    "    \"\"\"\n",
    "    if callable(R_t):\n",
    "        reprod = R_t(t)\n",
    "    else:\n",
    "        reprod = R_t\n",
    "        \n",
    "    S, E, I, R, H, C, D = y\n",
    "    \n",
    "    S_out = dS_dt(S, I, reprod, t_inf)\n",
    "    E_out = dE_dt(S, E, I, reprod, t_inf, t_inc)\n",
    "    I_out = dI_dt(I, E, t_inc, t_inf)\n",
    "    R_out = dR_dt(I, H, t_inf, t_hosp, m_a, c_a)\n",
    "    H_out = dH_dt(I, C, H, t_inf, t_hosp, t_crit, m_a, f_a)\n",
    "    C_out = dC_dt(H, C, t_hosp, t_crit, c_a)\n",
    "    D_out = dD_dt(C, t_crit, f_a)\n",
    "    return [S_out, E_out, I_out, R_out, H_out, C_out, D_out]"
   ]
  },
  {
   "cell_type": "markdown",
   "metadata": {},
   "source": [
    "# Fitting the model to data\n",
    "There are certain variables that we can play with to fit the model to real data:\n",
    "* Average incubation period, `t_inc`\n",
    "* Average infection period, `t_inf`\n",
    "* Average hospitalization period, `t_hosp`\n",
    "* Average critital period, `t_crit`\n",
    "* The fraction of mild/asymptomatic cases, `m_a`\n",
    "* The fraction of severe cases that turn critical, `c_a`\n",
    "* The fraction of critical cases that result in a fatality, `f_a`\n",
    "* Reproduction number, `R_0` or `R_t`\n",
    "\n",
    "The some of these are likely to be constants specific to the virus and some are likely to be time dependent variables dependent on factors such as:\n",
    "* When a government intervened\n",
    "* Peoples behaviours (do people actively self-isolate, not visit religious shrines etc.)\n",
    "* Population demographic of a country (is a significant proportion of the population old?). This is the `a` subscript\n",
    "* Heathcare system capacity (hostpital beds per capita)\n",
    "* Number of testing kits available\n",
    "\n",
    "We have already used two different reproduction numbers above. Let's see if we can derive a time-dependent `R_t` from the data. We will also try and optimize a handful of the parameters above to match the data.\n",
    "\n",
    "We will also compare this to just using a single reproduction number. This might actaully be more suitable in countries where the outbreak has just started or they are struggling to limit the spread.\n",
    "\n",
    "There are lots of ways to decay a parameter in epidemiology. I'm going to use a Hill decay, which has 2 parameters, `k` and `L` (the half decay constant):"
   ]
  },
  {
   "cell_type": "code",
   "execution_count": 12,
   "metadata": {
    "ExecuteTime": {
     "end_time": "2020-03-30T20:24:18.869654Z",
     "start_time": "2020-03-30T20:24:18.799083Z"
    }
   },
   "outputs": [
    {
     "data": {
      "text/plain": [
       "((43, 7), (29, 7), (13, 7), (14, 7), (29, 7))"
      ]
     },
     "execution_count": 12,
     "metadata": {},
     "output_type": "execute_result"
    }
   ],
   "source": [
    "DATE_BORDER = '2020-04-08'\n",
    "\n",
    "data_path = Path('D:/Python/Covid-19 Forecasting/Romania/mai/')\n",
    "\n",
    "\n",
    "train = pd.read_csv(data_path / 'train.csv', parse_dates=['Date'])\n",
    "test = pd.read_csv(data_path /'test.csv', parse_dates=['Date'])\n",
    "train.dropna()\n",
    "population=19237691\n",
    "\n",
    "# Remove the leaking data\n",
    "train_full = train.copy()\n",
    "valid = train[train['Date'] >= test['Date'].min()]\n",
    "train = train[train['Date'] < test['Date'].min()]\n",
    "\n",
    "# Split the test into public & private\n",
    "test_public = test[test['Date'] <= DATE_BORDER]\n",
    "test_private = test[test['Date'] > DATE_BORDER]\n",
    "\n",
    "# Use a multi-index for easier slicing\n",
    "train_full.set_index([ 'Date'], inplace=True)\n",
    "train.set_index(['Date'], inplace=True)\n",
    "valid.set_index(['Date'], inplace=True)\n",
    "test_public.set_index([ 'Date'], inplace=True)\n",
    "test_private.set_index([ 'Date'], inplace=True)\n",
    "\n",
    "\n",
    "train_full.shape, train.shape, valid.shape, test_public.shape, test_private.shape"
   ]
  },
  {
   "cell_type": "markdown",
   "metadata": {},
   "source": [
    "The function below evaluates a model with a constant `R` number as well as `t_hosp`, `t_crit`, `m`, `c`, `f`"
   ]
  },
  {
   "cell_type": "code",
   "execution_count": 13,
   "metadata": {
    "ExecuteTime": {
     "end_time": "2020-03-30T20:24:18.873179Z",
     "start_time": "2020-03-30T20:24:18.871087Z"
    }
   },
   "outputs": [],
   "source": [
    "OPTIM_DAYS = 14 # Number of days to use for the optimisation evaluation"
   ]
  },
  {
   "cell_type": "code",
   "execution_count": 14,
   "metadata": {
    "ExecuteTime": {
     "end_time": "2020-03-30T20:24:18.882722Z",
     "start_time": "2020-03-30T20:24:18.874114Z"
    }
   },
   "outputs": [],
   "source": [
    "# Use a constant reproduction number\n",
    "def eval_model_const(params, data, population, return_solution=False, forecast_days=0):\n",
    "    R_0, t_hosp, t_crit, m, c, f = params\n",
    "    N = population\n",
    "    n_infected = data['ConfirmedCases'].iloc[0]\n",
    "    max_days = len(data) + forecast_days\n",
    "    initial_state = [(N - n_infected)/ N, 0, n_infected / N, 0, 0, 0, 0]\n",
    "    args = (R_0, 5.6, 2.9, t_hosp, t_crit, m, c, f)\n",
    "               \n",
    "    sol = solve_ivp(SEIR_HCD_model, [0, max_days], initial_state, args=args, t_eval=np.arange(0, max_days))\n",
    "    \n",
    "    sus, exp, inf, rec, hosp, crit, deaths = sol.y\n",
    "    \n",
    "    y_pred_cases = np.clip(inf + rec + hosp + crit + deaths, 0, np.inf) * population\n",
    "    y_true_cases = data['ConfirmedCases'].values\n",
    "    y_pred_fat = np.clip(deaths, 0, np.inf) * population\n",
    "    y_true_fat = data['Fatalities'].values\n",
    "    \n",
    "    optim_days = min(OPTIM_DAYS, len(data))  # Days to optimise for\n",
    "    weights = 1 / np.arange(1, optim_days+1)[::-1]  # Recent data is more heavily weighted\n",
    "    msle_cases = mean_squared_log_error(y_true_cases[-optim_days:], y_pred_cases[-optim_days:], weights)\n",
    "    msle_fat = mean_squared_log_error(y_true_fat[-optim_days:], y_pred_fat[-optim_days:], weights)\n",
    "    \n",
    "    msle_final = np.mean([msle_cases, msle_fat])\n",
    "    \n",
    "    if return_solution:\n",
    "        return msle_final, sol\n",
    "    else:\n",
    "        return msle_final"
   ]
  },
  {
   "cell_type": "markdown",
   "metadata": {},
   "source": [
    "The function below is essentially the same as above, by R is decayed using a Hill decay function. This model requires 2 additional parameters to be optimized, `k` & `L`"
   ]
  },
  {
   "cell_type": "code",
   "execution_count": 15,
   "metadata": {
    "ExecuteTime": {
     "end_time": "2020-03-30T20:24:18.892749Z",
     "start_time": "2020-03-30T20:24:18.883760Z"
    }
   },
   "outputs": [],
   "source": [
    "# Use a Hill decayed reproduction number\n",
    "def eval_model_decay(params, data, population, return_solution=False, forecast_days=0):\n",
    "    R_0, t_hosp, t_crit, m, c, f, k, L = params  \n",
    "    N = population\n",
    "    n_infected = data['ConfirmedCases'].iloc[0]\n",
    "    max_days = len(data) + forecast_days\n",
    "    \n",
    "    # https://github.com/SwissTPH/openmalaria/wiki/ModelDecayFunctions   \n",
    "    # Hill decay. Initial values: R_0=2.2, k=2, L=50\n",
    "    def time_varying_reproduction(t): \n",
    "        return R_0 / (1 + (t/L)**k)\n",
    "    \n",
    "    initial_state = [(N - n_infected)/ N, 0, n_infected / N, 0, 0, 0, 0]\n",
    "    args = (time_varying_reproduction, 5.6, 2.9, t_hosp, t_crit, m, c, f)\n",
    "            \n",
    "    sol = solve_ivp(SEIR_HCD_model, [0, max_days], initial_state, args=args, t_eval=np.arange(0, max_days))\n",
    "    \n",
    "    sus, exp, inf, rec, hosp, crit, deaths = sol.y\n",
    "    \n",
    "    y_pred_cases = np.clip(inf + rec + hosp + crit + deaths, 0, np.inf) * population\n",
    "    y_true_cases = data['ConfirmedCases'].values\n",
    "    y_pred_fat = np.clip(deaths, 0, np.inf) * population\n",
    "    y_true_fat = data['Fatalities'].values\n",
    "    \n",
    "    optim_days = min(OPTIM_DAYS, len(data))  # Days to optimise for\n",
    "    weights = 1 / np.arange(1, optim_days+1)[::-1]  # Recent data is more heavily weighted\n",
    "    \n",
    "    msle_cases = mean_squared_log_error(y_true_cases[-optim_days:], y_pred_cases[-optim_days:], weights)\n",
    "    msle_fat = mean_squared_log_error(y_true_fat[-optim_days:], y_pred_fat[-optim_days:], weights)\n",
    "    msle_final = np.mean([msle_cases, msle_fat])\n",
    "    \n",
    "    if return_solution:\n",
    "        return msle_final, sol\n",
    "    else:\n",
    "        return msle_final"
   ]
  },
  {
   "cell_type": "code",
   "execution_count": 16,
   "metadata": {
    "ExecuteTime": {
     "end_time": "2020-03-30T20:24:18.898907Z",
     "start_time": "2020-03-30T20:24:18.893742Z"
    }
   },
   "outputs": [],
   "source": [
    "def use_last_value(train_data, valid_data, test_data):\n",
    "    lv = train_data[['ConfirmedCases', 'Fatalities']].iloc[-1].values\n",
    "    \n",
    "    if valid_data is not None:\n",
    "        y_pred_valid = np.ones((len(valid_data), 2)) * lv.reshape(1, 2)\n",
    "        y_true_valid = valid_data[['ConfirmedCases', 'Fatalities']]\n",
    "\n",
    "        msle_cases = mean_squared_log_error(y_true_valid['ConfirmedCases'], y_pred_valid[:, 0])\n",
    "        msle_fat = mean_squared_log_error(y_true_valid['Fatalities'], y_pred_valid[:, 1])\n",
    "        msle_final = np.mean([msle_cases, msle_fat])\n",
    "\n",
    "        return msle_final"
   ]
  },
  {
   "cell_type": "code",
   "execution_count": 17,
   "metadata": {
    "ExecuteTime": {
     "end_time": "2020-03-30T20:24:18.909281Z",
     "start_time": "2020-03-30T20:24:18.899880Z"
    }
   },
   "outputs": [],
   "source": [
    "def plot_model_results(y_pred, train_data, valid_data=None):\n",
    "    fig, (ax1, ax2) = plt.subplots(1, 2, figsize=(16,5))\n",
    "    \n",
    "    ax1.set_title('Romania Confirmed Cases')\n",
    "\n",
    "    ax1.set_ylabel('Confirmed Cases',fontsize=10)\n",
    "    ax2.set_title('Romania Fatalities')\n",
    "    \n",
    "    ax2.set_ylabel('Deaths',fontsize=10)\n",
    "    train_data['ConfirmedCases'].plot(label='Historical', color='blue', ax=ax1)\n",
    "    #y_pred.loc[train_data.index, 'ConfirmedCases'].plot(label='Predictive', color='red',linestyle='--', ax=ax1)\n",
    "    #ax3 = y_pred['R'].plot(label='Reproduction number', color='c', linestyle='-', secondary_y=True, ax=ax1)\n",
    "    #ax3.set_ylabel(\"Reproduction number\", fontsize=10, color='c');\n",
    "        \n",
    "    train_data['Fatalities'].plot(label='Fatalities (train)', color='blue', ax=ax2)\n",
    "    y_pred.loc[train_data.index, 'Fatalities'].plot(label='Fatalities', color='blue', ax=ax2)\n",
    "    \n",
    "    if valid_data is not None:\n",
    "        valid_data['ConfirmedCases'].plot(label='Confirmed Cases (valid)', color='blue', linestyle=':', ax=ax1)\n",
    "        valid_data['Fatalities'].plot(label='Fatalities (valid)', color='blue', linestyle=':', ax=ax2)\n",
    "        y_pred.loc[valid_data.index, 'ConfirmedCases'].plot(label='Modeled Cases (forecast)', color='r', linestyle=':', ax=ax1)\n",
    "        y_pred.loc[valid_data.index, 'Fatalities'].plot(label='Predictive)', color='r', linestyle='--', ax=ax2)\n",
    "    else:\n",
    "        y_pred.loc[:, 'ConfirmedCases'].plot(label='Predictive', color='r', linestyle='--', ax=ax1)\n",
    "        y_pred.loc[:, 'Fatalities'].plot(label='Predictive', color='r', linestyle='--', ax=ax2)\n",
    "        \n",
    "    ax1.legend(loc='best')\n",
    "    "
   ]
  },
  {
   "cell_type": "markdown",
   "metadata": {},
   "source": [
    "The function below fits a SEIR-HCD model for each area, either using a constant R or a decayed R, whichever is better. If the total cases/1M pop is below 1, then the last value is used."
   ]
  },
  {
   "cell_type": "code",
   "execution_count": 18,
   "metadata": {
    "ExecuteTime": {
     "end_time": "2020-03-30T20:24:18.923080Z",
     "start_time": "2020-03-30T20:24:18.910170Z"
    }
   },
   "outputs": [],
   "source": [
    "def fit_model_validation(\n",
    "                     initial_guess=[4, 4, 14,  0.67, 0.0077, 0.11, 2, 50],\n",
    "                     bounds=((1, 20), # R bounds\n",
    "                             (0.5, 10), (2, 20), # transition time param bounds\n",
    "                             (0.5, 1), (0, 1), (0, 1), (1, 5), (1, 100)), # fraction time param bounds\n",
    "                     make_plot=True):\n",
    "        \n",
    "    train_data = train.query('ConfirmedCases > 0')\n",
    "    valid_data = valid\n",
    "    test_data = test_public\n",
    "    \n",
    "\n",
    "        \n",
    "    cases_per_million = train_data['ConfirmedCases'].max() * 10**6 / population\n",
    "    n_infected = train_data['ConfirmedCases'].iloc[0]\n",
    "        \n",
    "    if cases_per_million < 1:\n",
    "        return use_last_value(train_data, valid_data, test_data)\n",
    "                \n",
    "    res_const = minimize(eval_model_const, initial_guess[:-2], bounds=bounds[:-2],\n",
    "                         args=(train_data, population, False),\n",
    "                         method='L-BFGS-B')\n",
    "    \n",
    "    res_decay = minimize(eval_model_decay, initial_guess, bounds=bounds,\n",
    "                         args=(train_data, population, False),\n",
    "                         method='L-BFGS-B')\n",
    "    \n",
    "    dates_all = train_data.index.append(test_data.index)\n",
    "    dates_val = train_data.index.append(valid_data.index)\n",
    "    \n",
    "    \n",
    "    # If using a constant R number is better, use that model\n",
    "    if res_const.fun < res_decay.fun:\n",
    "        msle, sol = eval_model_const(res_const.x, train_data, population, True, len(test_data))\n",
    "        res = res_const\n",
    "        R_t = pd.Series([res_const.x[0]] * len(dates_val), dates_val)\n",
    "    else:\n",
    "        msle, sol = eval_model_decay(res_decay.x, train_data, population, True, len(test_data))\n",
    "        res = res_decay\n",
    "        \n",
    "        # Calculate the R_t values\n",
    "        t = np.arange(len(dates_val))\n",
    "        R_0, t_hosp, t_crit, m, c, f, k, L = res.x  \n",
    "        R_t = pd.Series(R_0 / (1 + (t/L)**k), dates_val)\n",
    "        \n",
    "    sus, exp, inf, rec, hosp, crit, deaths = sol.y\n",
    "    \n",
    "    y_pred = pd.DataFrame({\n",
    "        'ConfirmedCases': np.clip(inf + rec + hosp + crit + deaths, 0, np.inf) * population,\n",
    "        'Fatalities': np.clip(deaths, 0, np.inf) * population,\n",
    "        'R': R_t,\n",
    "    }, index=dates_all)\n",
    "    \n",
    "    y_pred_valid = y_pred.iloc[len(train_data): len(train_data)+len(valid_data)]\n",
    "    y_pred_test = y_pred.iloc[len(train_data):]\n",
    "    y_true_valid = valid_data[['ConfirmedCases', 'Fatalities']]\n",
    "        \n",
    "    valid_msle_cases = mean_squared_log_error(y_true_valid['ConfirmedCases'], y_pred_valid['ConfirmedCases'])\n",
    "    valid_msle_fat = mean_squared_log_error(y_true_valid['Fatalities'], y_pred_valid['Fatalities'])\n",
    "    valid_msle = np.mean([valid_msle_cases, valid_msle_fat])\n",
    "    \n",
    "    if make_plot:\n",
    "        print(f'Validation MSLE: {valid_msle:0.5f}')\n",
    "        print(f'R: {res.x[0]:0.3f}, t_hosp: {res.x[1]:0.3f}, t_crit: {res.x[2]:0.3f}, '\n",
    "              f'm: {res.x[3]:0.3f}, c: {res.x[4]:0.3f}, f: {res.x[5]:0.3f}')\n",
    "        plot_model_results(y_pred, train_data, valid_data)\n",
    "        \n",
    "   \n",
    "    return valid_msle"
   ]
  },
  {
   "cell_type": "code",
   "execution_count": 24,
   "metadata": {
    "ExecuteTime": {
     "end_time": "2020-03-30T20:24:18.934763Z",
     "start_time": "2020-03-30T20:24:18.923988Z"
    }
   },
   "outputs": [],
   "source": [
    "# Fit a model on the full dataset (i.e. no validation)\n",
    "def fit_model_full(\n",
    "                      initial_guess=[2.79, 4, 14, 0.67, 0.0077, 0.11, 2, 60],\n",
    "                      bounds=((1, 20), # R bounds\n",
    "                              (0.5, 10), (2, 20), # transition time param bounds\n",
    "                              (0.5, 1), (0, 0.8), (0, 0.8), (1, 5), (1, 100)), # fraction time param bounds\n",
    "                      make_plot=True):\n",
    "        \n",
    "    train_data = train_full.query('ConfirmedCases > 0')\n",
    "    test_data = test_private\n",
    "    \n",
    "\n",
    "    cases_per_million = train_data['ConfirmedCases'].max() * 10**6 / population\n",
    "    n_infected = train_data['ConfirmedCases'].iloc[0]\n",
    "        \n",
    "    if cases_per_million < 1:\n",
    "        return use_last_value(train_data, None, test_data)\n",
    "                \n",
    "    res_const = minimize(eval_model_const, initial_guess[:-2], bounds=bounds[:-2],\n",
    "                         args=(train_data, population, False),\n",
    "                         method='L-BFGS-B')\n",
    "    \n",
    "    res_decay = minimize(eval_model_decay, initial_guess, bounds=bounds,\n",
    "                         args=(train_data, population, False),\n",
    "                         method='L-BFGS-B')\n",
    "    \n",
    "    dates_all = train_data.index.append(test_data.index)\n",
    "    \n",
    "    \n",
    "    # If using a constant R number is better, use that model\n",
    "    if res_const.fun < res_decay.fun:\n",
    "        msle, sol = eval_model_const(res_const.x, train_data, population, True, len(test_data))\n",
    "        res = res_const\n",
    "        R_t = pd.Series([res_const.x[0]] * len(dates_all), dates_all)\n",
    "    else:\n",
    "        msle, sol = eval_model_decay(res_decay.x, train_data, population, True, len(test_data))\n",
    "        res = res_decay\n",
    "        \n",
    "        # Calculate the R_t values\n",
    "        t = np.arange(len(dates_all))\n",
    "        R_0, t_hosp, t_crit, m, c, f, k, L = res.x  \n",
    "        R_t = pd.Series(R_0 / (1 + (t/L)**k), dates_all)\n",
    "        \n",
    "    sus, exp, inf, rec, hosp, crit, deaths = sol.y\n",
    "    \n",
    "    y_pred = pd.DataFrame({\n",
    "        'ConfirmedCases': np.clip(inf + rec + hosp + crit + deaths, 0, np.inf) * population,\n",
    "        'Fatalities': np.clip(deaths, 0, np.inf) * population,\n",
    "        'R': R_t,\n",
    "    }, index=dates_all)\n",
    "    \n",
    "    y_pred_test = y_pred.iloc[len(train_data):]\n",
    "    \n",
    "    if make_plot:\n",
    "        print(f'R: {res.x[0]:0.3f}, t_hosp: {res.x[1]:0.3f}, t_crit: {res.x[2]:0.3f}, '\n",
    "              f'm: {res.x[3]:0.3f}, c: {res.x[4]:0.3f}, f: {res.x[5]:0.3f}')\n",
    "        plot_model_results(y_pred, train_data)\n",
    "    y_pred=pd.DataFrame(y_pred)\n",
    "    y_pred.to_csv('D:/Python/Covid-19 Forecasting/Romania/seir.csv',\\\n",
    "                                                  index=False)\n"
   ]
  },
  {
   "cell_type": "code",
   "execution_count": 20,
   "metadata": {
    "ExecuteTime": {
     "end_time": "2020-03-30T20:24:36.051856Z",
     "start_time": "2020-03-30T20:24:18.935707Z"
    }
   },
   "outputs": [
    {
     "name": "stdout",
     "output_type": "stream",
     "text": [
      "Validation MSLE: 0.30776\n",
      "R: 4.351, t_hosp: 10.000, t_crit: 19.801, m: 0.504, c: 1.000, f: 0.420\n"
     ]
    },
    {
     "data": {
      "text/plain": [
       "0.30776355500369273"
      ]
     },
     "execution_count": 20,
     "metadata": {},
     "output_type": "execute_result"
    },
    {
     "data": {
      "image/png": "[encoded data removed]",
      "text/plain": [
       "<Figure size 1152x360 with 2 Axes>"
      ]
     },
     "metadata": {
      "needs_background": "light"
     },
     "output_type": "display_data"
    }
   ],
   "source": [
    "fit_model_validation()\n"
   ]
  },
  {
   "cell_type": "code",
   "execution_count": 25,
   "metadata": {},
   "outputs": [
    {
     "name": "stdout",
     "output_type": "stream",
     "text": [
      "R: 4.338, t_hosp: 0.525, t_crit: 9.697, m: 0.515, c: 0.800, f: 0.242\n"
     ]
    },
    {
     "data": {
      "image/png": "[encoded data removed]",
      "text/plain": [
       "<Figure size 1152x360 with 2 Axes>"
      ]
     },
     "metadata": {
      "needs_background": "light"
     },
     "output_type": "display_data"
    }
   ],
   "source": [
    "fit_model_full()"
   ]
  },
  {
   "cell_type": "code",
   "execution_count": null,
   "metadata": {},
   "outputs": [],
   "source": []
  },
  {
   "cell_type": "code",
   "execution_count": null,
   "metadata": {},
   "outputs": [],
   "source": []
  }
 ],
 "metadata": {
  "kernelspec": {
   "display_name": "Python 3",
   "language": "python",
   "name": "python3"
  },
  "language_info": {
   "codemirror_mode": {
    "name": "ipython",
    "version": 3
   },
   "file_extension": ".py",
   "mimetype": "text/x-python",
   "name": "python",
   "nbconvert_exporter": "python",
   "pygments_lexer": "ipython3",
   "version": "3.7.6"
  }
 },
 "nbformat": 4,
 "nbformat_minor": 4
}
